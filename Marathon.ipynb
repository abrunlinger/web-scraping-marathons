{
 "cells": [
  {
   "cell_type": "code",
   "execution_count": 1,
   "metadata": {},
   "outputs": [],
   "source": [
    "import requests\n",
    "from bs4 import BeautifulSoup\n",
    "import pandas as pd"
   ]
  },
  {
   "cell_type": "code",
   "execution_count": 2,
   "metadata": {},
   "outputs": [],
   "source": [
    "# setting up the base URLs for the project\n",
    "MARATHONS_CONFIG = {\n",
    "    'base_url': 'https://www.runrocknroll.com',\n",
    "    'query_params': 'gender=&agegroup=&bib=&firstname=&lastname=&page=',\n",
    "    'pages': [\n",
    "        'Events/Nashville/The-Races/Marathon/2019-Results',\n",
    "        'Events/Nashville/The-Races/Marathon/2018-Results',\n",
    "        'Events/Nashville/The-Races/Marathon/2017-Results',\n",
    "        'Events/Nashville/The-Races/Marathon/2016-Results',\n",
    "        'Events/Nashville/The-Races/Half-Marathon/2019-Results',\n",
    "        'Events/Nashville/The-Races/Half-Marathon/2018-Results',\n",
    "        'Events/Nashville/The-Races/Half-Marathon/2017-Results',\n",
    "        'Events/Nashville/The-Races/Half-Marathon/2016-Results'\n",
    "    ]\n",
    "}"
   ]
  },
  {
   "cell_type": "markdown",
   "metadata": {},
   "source": [
    "Example URL - https://www.runrocknroll.com/Events/Nashville/The-Races/Marathon/2019-Results?gender=&agegroup=&bib=&firstname=&lastname=&page=1\n",
    "\n",
    "https://www.runrocknroll.com/Events/Nashville/The-Races/Marathon/2019-Results"
   ]
  },
  {
   "cell_type": "code",
   "execution_count": 3,
   "metadata": {},
   "outputs": [
    {
     "data": {
      "text/plain": [
       "'https://www.runrocknroll.com'"
      ]
     },
     "execution_count": 3,
     "metadata": {},
     "output_type": "execute_result"
    }
   ],
   "source": [
    "#site = sum(MARATHONS_CONFIG.values(), [1]) \n",
    "MARATHONS_CONFIG['base_url']"
   ]
  },
  {
   "cell_type": "code",
   "execution_count": 4,
   "metadata": {},
   "outputs": [
    {
     "data": {
      "text/plain": [
       "'Events/Nashville/The-Races/Marathon/2019-Results'"
      ]
     },
     "execution_count": 4,
     "metadata": {},
     "output_type": "execute_result"
    }
   ],
   "source": [
    "MARATHONS_CONFIG['pages'][0]"
   ]
  },
  {
   "cell_type": "code",
   "execution_count": 5,
   "metadata": {},
   "outputs": [
    {
     "data": {
      "text/plain": [
       "'https://www.runrocknroll.com/Events/Nashville/The-Races/Marathon/2019-Results'"
      ]
     },
     "execution_count": 5,
     "metadata": {},
     "output_type": "execute_result"
    }
   ],
   "source": [
    "MARATHONS_CONFIG['base_url']+'/'+MARATHONS_CONFIG['pages'][0]"
   ]
  },
  {
   "cell_type": "code",
   "execution_count": 6,
   "metadata": {},
   "outputs": [],
   "source": [
    "sites = []"
   ]
  },
  {
   "cell_type": "code",
   "execution_count": 7,
   "metadata": {},
   "outputs": [],
   "source": [
    "for x in MARATHONS_CONFIG['pages'] :\n",
    "    sites.append(MARATHONS_CONFIG['base_url']+'/'+x)"
   ]
  },
  {
   "cell_type": "code",
   "execution_count": 8,
   "metadata": {},
   "outputs": [
    {
     "name": "stdout",
     "output_type": "stream",
     "text": [
      "['https://www.runrocknroll.com/Events/Nashville/The-Races/Marathon/2019-Results', 'https://www.runrocknroll.com/Events/Nashville/The-Races/Marathon/2018-Results', 'https://www.runrocknroll.com/Events/Nashville/The-Races/Marathon/2017-Results', 'https://www.runrocknroll.com/Events/Nashville/The-Races/Marathon/2016-Results', 'https://www.runrocknroll.com/Events/Nashville/The-Races/Half-Marathon/2019-Results', 'https://www.runrocknroll.com/Events/Nashville/The-Races/Half-Marathon/2018-Results', 'https://www.runrocknroll.com/Events/Nashville/The-Races/Half-Marathon/2017-Results', 'https://www.runrocknroll.com/Events/Nashville/The-Races/Half-Marathon/2016-Results']\n"
     ]
    }
   ],
   "source": [
    "print(sites)"
   ]
  },
  {
   "cell_type": "code",
   "execution_count": 16,
   "metadata": {},
   "outputs": [
    {
     "name": "stdout",
     "output_type": "stream",
     "text": [
      "https://www.runrocknroll.com/Events/Nashville/The-Races/Marathon/2019-Results\n"
     ]
    }
   ],
   "source": [
    "page_1_url = f\"{MARATHONS_CONFIG['base_url']}/{MARATHONS_CONFIG['pages'][0]}\"\n",
    "print(page_1_url)"
   ]
  },
  {
   "cell_type": "code",
   "execution_count": 28,
   "metadata": {},
   "outputs": [
    {
     "ename": "SyntaxError",
     "evalue": "invalid syntax (<ipython-input-28-39bbc3d7924a>, line 5)",
     "output_type": "error",
     "traceback": [
      "\u001b[1;36m  File \u001b[1;32m\"<ipython-input-28-39bbc3d7924a>\"\u001b[1;36m, line \u001b[1;32m5\u001b[0m\n\u001b[1;33m    return soup = BeautifulSoup(resp.text, 'html.parser')\u001b[0m\n\u001b[1;37m                ^\u001b[0m\n\u001b[1;31mSyntaxError\u001b[0m\u001b[1;31m:\u001b[0m invalid syntax\n"
     ]
    }
   ],
   "source": [
    "def get_soup_from_url(url):\n",
    "    resp = requests.post(url)\n",
    "    print(resp.status_code)\n",
    "\n",
    "    return soup = BeautifulSoup(resp.text, 'html.parser')\n",
    "    print(f'Soup title: {soup.title}')"
   ]
  },
  {
   "cell_type": "code",
   "execution_count": 17,
   "metadata": {},
   "outputs": [
    {
     "name": "stdout",
     "output_type": "stream",
     "text": [
      "200\n"
     ]
    }
   ],
   "source": [
    "# pull data from the page\n",
    "resp = requests.post(page_1_url)\n",
    "\n",
    "# We want the print statement to be 200\n",
    "print(resp.status_code)"
   ]
  },
  {
   "cell_type": "code",
   "execution_count": 19,
   "metadata": {},
   "outputs": [
    {
     "name": "stdout",
     "output_type": "stream",
     "text": [
      "Soup title: <title> | Rock n Roll Marathon Series | Marathon Half Marathon Events</title>\n"
     ]
    }
   ],
   "source": [
    "# Establish the \"soup\" object so we can traverse the website content\n",
    "soup = BeautifulSoup(resp.text, 'html.parser')\n",
    "print(f'Soup title: {soup.title}')"
   ]
  },
  {
   "cell_type": "code",
   "execution_count": 21,
   "metadata": {},
   "outputs": [
    {
     "data": {
      "text/plain": [
       "<table class=\"table table-responsive table-bordered\">\n",
       "<tr>\n",
       "<th class=\"table-place\">Overall</th>\n",
       "<th class=\"table-place\">Bib</th>\n",
       "<th class=\"table-name\">Name</th>\n",
       "<th class=\"table-time\">Time</th>\n",
       "</tr>\n",
       "<tr>\n",
       "<td>1</td>\n",
       "<td>30001</td>\n",
       "<td><a href=\"/en/Events/Nashville/The-Races/Marathon/2019-Results/Athlete?id=30001\">Travis Peruski</a></td>\n",
       "<td>01:37:54</td>\n",
       "</tr>\n",
       "<tr>\n",
       "<td>2</td>\n",
       "<td>1</td>\n",
       "<td><a href=\"/en/Events/Nashville/The-Races/Marathon/2019-Results/Athlete?id=1\">Scott Wietecha</a></td>\n",
       "<td>02:34:59</td>\n",
       "</tr>\n",
       "<tr>\n",
       "<td>3</td>\n",
       "<td>4</td>\n",
       "<td><a href=\"/en/Events/Nashville/The-Races/Marathon/2019-Results/Athlete?id=4\">Jordan Wilson</a></td>\n",
       "<td>02:35:24</td>\n",
       "</tr>\n",
       "<tr>\n",
       "<td>4</td>\n",
       "<td>30034</td>\n",
       "<td><a href=\"/en/Events/Nashville/The-Races/Marathon/2019-Results/Athlete?id=30034\">Steelton Flynn</a></td>\n",
       "<td>02:39:59</td>\n",
       "</tr>\n",
       "<tr>\n",
       "<td>5</td>\n",
       "<td>30035</td>\n",
       "<td><a href=\"/en/Events/Nashville/The-Races/Marathon/2019-Results/Athlete?id=30035\">Thomas Ellis</a></td>\n",
       "<td>02:42:09</td>\n",
       "</tr>\n",
       "<tr>\n",
       "<td>6</td>\n",
       "<td>33172</td>\n",
       "<td><a href=\"/en/Events/Nashville/The-Races/Marathon/2019-Results/Athlete?id=33172\">Nicholas Tseffos</a></td>\n",
       "<td>02:48:42</td>\n",
       "</tr>\n",
       "<tr>\n",
       "<td>7</td>\n",
       "<td>30053</td>\n",
       "<td><a href=\"/en/Events/Nashville/The-Races/Marathon/2019-Results/Athlete?id=30053\">Satoshi Mitsumori</a></td>\n",
       "<td>02:50:33</td>\n",
       "</tr>\n",
       "<tr>\n",
       "<td>8</td>\n",
       "<td>30051</td>\n",
       "<td><a href=\"/en/Events/Nashville/The-Races/Marathon/2019-Results/Athlete?id=30051\">Harrison Kieffer</a></td>\n",
       "<td>02:51:18</td>\n",
       "</tr>\n",
       "<tr>\n",
       "<td>9</td>\n",
       "<td>30086</td>\n",
       "<td><a href=\"/en/Events/Nashville/The-Races/Marathon/2019-Results/Athlete?id=30086\">Steven Forte</a></td>\n",
       "<td>02:54:34</td>\n",
       "</tr>\n",
       "<tr>\n",
       "<td>10</td>\n",
       "<td>30042</td>\n",
       "<td><a href=\"/en/Events/Nashville/The-Races/Marathon/2019-Results/Athlete?id=30042\">Grant Rice</a></td>\n",
       "<td>02:55:49</td>\n",
       "</tr>\n",
       "<tr>\n",
       "<td>11</td>\n",
       "<td>30049</td>\n",
       "<td><a href=\"/en/Events/Nashville/The-Races/Marathon/2019-Results/Athlete?id=30049\">Andrew Fisher</a></td>\n",
       "<td>02:56:05</td>\n",
       "</tr>\n",
       "<tr>\n",
       "<td>12</td>\n",
       "<td>30038</td>\n",
       "<td><a href=\"/en/Events/Nashville/The-Races/Marathon/2019-Results/Athlete?id=30038\">Edgar Garza</a></td>\n",
       "<td>02:56:40</td>\n",
       "</tr>\n",
       "<tr>\n",
       "<td>13</td>\n",
       "<td>30094</td>\n",
       "<td><a href=\"/en/Events/Nashville/The-Races/Marathon/2019-Results/Athlete?id=30094\">Wesley King</a></td>\n",
       "<td>02:56:58</td>\n",
       "</tr>\n",
       "<tr>\n",
       "<td>14</td>\n",
       "<td>30112</td>\n",
       "<td><a href=\"/en/Events/Nashville/The-Races/Marathon/2019-Results/Athlete?id=30112\">Jake Smith</a></td>\n",
       "<td>02:57:38</td>\n",
       "</tr>\n",
       "<tr>\n",
       "<td>15</td>\n",
       "<td>30096</td>\n",
       "<td><a href=\"/en/Events/Nashville/The-Races/Marathon/2019-Results/Athlete?id=30096\">Mark Laprade</a></td>\n",
       "<td>02:58:00</td>\n",
       "</tr>\n",
       "<tr>\n",
       "<td>16</td>\n",
       "<td>30142</td>\n",
       "<td><a href=\"/en/Events/Nashville/The-Races/Marathon/2019-Results/Athlete?id=30142\">Scott Roman</a></td>\n",
       "<td>02:59:09</td>\n",
       "</tr>\n",
       "<tr>\n",
       "<td>17</td>\n",
       "<td>30054</td>\n",
       "<td><a href=\"/en/Events/Nashville/The-Races/Marathon/2019-Results/Athlete?id=30054\">James Nabholz</a></td>\n",
       "<td>02:59:59</td>\n",
       "</tr>\n",
       "<tr>\n",
       "<td>18</td>\n",
       "<td>30056</td>\n",
       "<td><a href=\"/en/Events/Nashville/The-Races/Marathon/2019-Results/Athlete?id=30056\">Kazufumi Seki</a></td>\n",
       "<td>03:01:21</td>\n",
       "</tr>\n",
       "<tr>\n",
       "<td>19</td>\n",
       "<td>30084</td>\n",
       "<td><a href=\"/en/Events/Nashville/The-Races/Marathon/2019-Results/Athlete?id=30084\">Nicholas Eulau</a></td>\n",
       "<td>03:01:59</td>\n",
       "</tr>\n",
       "<tr>\n",
       "<td>20</td>\n",
       "<td>30045</td>\n",
       "<td><a href=\"/en/Events/Nashville/The-Races/Marathon/2019-Results/Athlete?id=30045\">Mitchell Davis</a></td>\n",
       "<td>03:02:18</td>\n",
       "</tr>\n",
       "<tr>\n",
       "<td>21</td>\n",
       "<td>30075</td>\n",
       "<td><a href=\"/en/Events/Nashville/The-Races/Marathon/2019-Results/Athlete?id=30075\">Eddie Bell</a></td>\n",
       "<td>03:03:12</td>\n",
       "</tr>\n",
       "<tr>\n",
       "<td>22</td>\n",
       "<td>30039</td>\n",
       "<td><a href=\"/en/Events/Nashville/The-Races/Marathon/2019-Results/Athlete?id=30039\">Montana Klingsporn</a></td>\n",
       "<td>03:03:17</td>\n",
       "</tr>\n",
       "<tr>\n",
       "<td>23</td>\n",
       "<td>2</td>\n",
       "<td><a href=\"/en/Events/Nashville/The-Races/Marathon/2019-Results/Athlete?id=2\">Mathias Osmark</a></td>\n",
       "<td>03:04:01</td>\n",
       "</tr>\n",
       "<tr>\n",
       "<td>24</td>\n",
       "<td>30052</td>\n",
       "<td><a href=\"/en/Events/Nashville/The-Races/Marathon/2019-Results/Athlete?id=30052\">Sean Kunis</a></td>\n",
       "<td>03:05:22</td>\n",
       "</tr>\n",
       "<tr>\n",
       "<td>25</td>\n",
       "<td>30074</td>\n",
       "<td><a href=\"/en/Events/Nashville/The-Races/Marathon/2019-Results/Athlete?id=30074\">Dylan Beaulieu</a></td>\n",
       "<td>03:05:28</td>\n",
       "</tr>\n",
       "</table>"
      ]
     },
     "execution_count": 21,
     "metadata": {},
     "output_type": "execute_result"
    }
   ],
   "source": [
    "soup.find('div', {'class': 'race-search-main'}) \\\n",
    "    .find('table')"
   ]
  },
  {
   "cell_type": "code",
   "execution_count": 22,
   "metadata": {},
   "outputs": [
    {
     "data": {
      "text/plain": [
       "<li class=\"PagedList-skipToNext\"><a href=\"https://www.runrocknroll.com/Events/Nashville/The-Races/Marathon/2019-Results?gender=&amp;agegroup=&amp;bib=&amp;firstname=&amp;lastname=&amp;page=2\" rel=\"next\">&gt;</a></li>"
      ]
     },
     "execution_count": 22,
     "metadata": {},
     "output_type": "execute_result"
    }
   ],
   "source": [
    "soup.find('ul', {'class': 'pagination'}) \\\n",
    "    .findAll('li')[-1] \\\n",
    "    .find('a')['href']"
   ]
  },
  {
   "cell_type": "code",
   "execution_count": 26,
   "metadata": {},
   "outputs": [],
   "source": [
    "def get_next_page(soup):\n",
    "    return soup \\\n",
    "        .find('ul', {'class': 'pagination'}) \\\n",
    "        .findAll('li')[-1] \\\n",
    "        .find('a')('href', None)"
   ]
  },
  {
   "cell_type": "code",
   "execution_count": 25,
   "metadata": {},
   "outputs": [
    {
     "data": {
      "text/plain": [
       "'https://www.runrocknroll.com/Events/Nashville/The-Races/Marathon/2019-Results?gender=&agegroup=&bib=&firstname=&lastname=&page=2'"
      ]
     },
     "execution_count": 25,
     "metadata": {},
     "output_type": "execute_result"
    }
   ],
   "source": [
    "get_next_page(soup)"
   ]
  },
  {
   "cell_type": "code",
   "execution_count": 27,
   "metadata": {},
   "outputs": [
    {
     "name": "stdout",
     "output_type": "stream",
     "text": [
      "200\n",
      "Soup title: <title> | Rock n Roll Marathon Series | Marathon Half Marathon Events</title>\n"
     ]
    }
   ],
   "source": [
    "resp = requests.post('https://www.runrocknroll.com/Events/Nashville/The-Races/Marathon/2019-Results?gender=&agegroup=&bib=&firstname=&lastname=&page=2')\n",
    "print(resp.status_code)\n",
    "\n",
    "soup = BeautifulSoup(resp.text, 'html.parser')\n",
    "print(f'Soup title: {soup.title}')"
   ]
  },
  {
   "cell_type": "code",
   "execution_count": null,
   "metadata": {},
   "outputs": [],
   "source": []
  },
  {
   "cell_type": "code",
   "execution_count": null,
   "metadata": {},
   "outputs": [],
   "source": []
  },
  {
   "cell_type": "code",
   "execution_count": null,
   "metadata": {},
   "outputs": [],
   "source": []
  },
  {
   "cell_type": "code",
   "execution_count": null,
   "metadata": {},
   "outputs": [],
   "source": []
  },
  {
   "cell_type": "code",
   "execution_count": 12,
   "metadata": {},
   "outputs": [
    {
     "name": "stdout",
     "output_type": "stream",
     "text": [
      "<ul class=\"pagination\">\n",
      " <li class=\"disabled PagedList-skipToPrevious\">\n",
      "  <a rel=\"prev\">\n",
      "   &lt;\n",
      "  </a>\n",
      " </li>\n",
      " <li class=\"active\">\n",
      "  <span>\n",
      "   1\n",
      "  </span>\n",
      " </li>\n",
      " <li>\n",
      "  <a href=\"https://www.runrocknroll.com/Events/Nashville/The-Races/Marathon/2019-Results?gender=&amp;agegroup=&amp;bib=&amp;firstname=&amp;lastname=&amp;page=2\">\n",
      "   2\n",
      "  </a>\n",
      " </li>\n",
      " <li>\n",
      "  <a href=\"https://www.runrocknroll.com/Events/Nashville/The-Races/Marathon/2019-Results?gender=&amp;agegroup=&amp;bib=&amp;firstname=&amp;lastname=&amp;page=3\">\n",
      "   3\n",
      "  </a>\n",
      " </li>\n",
      " <li>\n",
      "  <a href=\"https://www.runrocknroll.com/Events/Nashville/The-Races/Marathon/2019-Results?gender=&amp;agegroup=&amp;bib=&amp;firstname=&amp;lastname=&amp;page=4\">\n",
      "   4\n",
      "  </a>\n",
      " </li>\n",
      " <li>\n",
      "  <a href=\"https://www.runrocknroll.com/Events/Nashville/The-Races/Marathon/2019-Results?gender=&amp;agegroup=&amp;bib=&amp;firstname=&amp;lastname=&amp;page=5\">\n",
      "   5\n",
      "  </a>\n",
      " </li>\n",
      " <li class=\"PagedList-skipToNext\">\n",
      "  <a href=\"https://www.runrocknroll.com/Events/Nashville/The-Races/Marathon/2019-Results?gender=&amp;agegroup=&amp;bib=&amp;firstname=&amp;lastname=&amp;page=6\" rel=\"next\">\n",
      "   …\n",
      "  </a>\n",
      " </li>\n",
      " <li class=\"PagedList-skipToNext\">\n",
      "  <a href=\"https://www.runrocknroll.com/Events/Nashville/The-Races/Marathon/2019-Results?gender=&amp;agegroup=&amp;bib=&amp;firstname=&amp;lastname=&amp;page=2\" rel=\"next\">\n",
      "   &gt;\n",
      "  </a>\n",
      " </li>\n",
      "</ul>\n"
     ]
    }
   ],
   "source": [
    "#Let's get the elements inside the pagination class\n",
    "pagination_elems = soup.findAll('ul', {'class': 'pagination'})\n",
    "pagination_elem = pagination_elems[0]\n",
    "\n",
    "print(pagination_elem.prettify())"
   ]
  },
  {
   "cell_type": "code",
   "execution_count": 13,
   "metadata": {},
   "outputs": [
    {
     "data": {
      "text/plain": [
       "[<a rel=\"prev\">&lt;</a>,\n",
       " <a href=\"https://www.runrocknroll.com/Events/Nashville/The-Races/Marathon/2019-Results?gender=&amp;agegroup=&amp;bib=&amp;firstname=&amp;lastname=&amp;page=2\">2</a>,\n",
       " <a href=\"https://www.runrocknroll.com/Events/Nashville/The-Races/Marathon/2019-Results?gender=&amp;agegroup=&amp;bib=&amp;firstname=&amp;lastname=&amp;page=3\">3</a>,\n",
       " <a href=\"https://www.runrocknroll.com/Events/Nashville/The-Races/Marathon/2019-Results?gender=&amp;agegroup=&amp;bib=&amp;firstname=&amp;lastname=&amp;page=4\">4</a>,\n",
       " <a href=\"https://www.runrocknroll.com/Events/Nashville/The-Races/Marathon/2019-Results?gender=&amp;agegroup=&amp;bib=&amp;firstname=&amp;lastname=&amp;page=5\">5</a>,\n",
       " <a href=\"https://www.runrocknroll.com/Events/Nashville/The-Races/Marathon/2019-Results?gender=&amp;agegroup=&amp;bib=&amp;firstname=&amp;lastname=&amp;page=6\" rel=\"next\">…</a>,\n",
       " <a href=\"https://www.runrocknroll.com/Events/Nashville/The-Races/Marathon/2019-Results?gender=&amp;agegroup=&amp;bib=&amp;firstname=&amp;lastname=&amp;page=2\" rel=\"next\">&gt;</a>]"
      ]
     },
     "execution_count": 13,
     "metadata": {},
     "output_type": "execute_result"
    }
   ],
   "source": [
    "# now, let's get all of the links from the pagination element.\n",
    "links = pagination_elem.findAll('a')\n",
    "links"
   ]
  },
  {
   "cell_type": "code",
   "execution_count": 15,
   "metadata": {},
   "outputs": [
    {
     "ename": "AttributeError",
     "evalue": "module 'pandas' has no attribute 'links'",
     "output_type": "error",
     "traceback": [
      "\u001b[1;31m---------------------------------------------------------------------------\u001b[0m",
      "\u001b[1;31mAttributeError\u001b[0m                            Traceback (most recent call last)",
      "\u001b[1;32m<ipython-input-15-2ef8de61aff5>\u001b[0m in \u001b[0;36m<module>\u001b[1;34m\u001b[0m\n\u001b[1;32m----> 1\u001b[1;33m \u001b[0mlast_link\u001b[0m \u001b[1;33m=\u001b[0m \u001b[0mpd\u001b[0m\u001b[1;33m.\u001b[0m\u001b[0mlinks\u001b[0m\u001b[1;33m.\u001b[0m\u001b[0mtext\u001b[0m\u001b[1;33m[\u001b[0m\u001b[1;33m-\u001b[0m\u001b[1;36m1\u001b[0m\u001b[1;33m]\u001b[0m\u001b[1;33m\u001b[0m\u001b[1;33m\u001b[0m\u001b[0m\n\u001b[0m\u001b[0;32m      2\u001b[0m \u001b[0mlast_link\u001b[0m\u001b[1;33m\u001b[0m\u001b[1;33m\u001b[0m\u001b[0m\n",
      "\u001b[1;32m~\\anaconda3\\lib\\site-packages\\pandas\\__init__.py\u001b[0m in \u001b[0;36m__getattr__\u001b[1;34m(name)\u001b[0m\n\u001b[0;32m    260\u001b[0m             \u001b[1;32mreturn\u001b[0m \u001b[0m_SparseArray\u001b[0m\u001b[1;33m\u001b[0m\u001b[1;33m\u001b[0m\u001b[0m\n\u001b[0;32m    261\u001b[0m \u001b[1;33m\u001b[0m\u001b[0m\n\u001b[1;32m--> 262\u001b[1;33m         \u001b[1;32mraise\u001b[0m \u001b[0mAttributeError\u001b[0m\u001b[1;33m(\u001b[0m\u001b[1;34mf\"module 'pandas' has no attribute '{name}'\"\u001b[0m\u001b[1;33m)\u001b[0m\u001b[1;33m\u001b[0m\u001b[1;33m\u001b[0m\u001b[0m\n\u001b[0m\u001b[0;32m    263\u001b[0m \u001b[1;33m\u001b[0m\u001b[0m\n\u001b[0;32m    264\u001b[0m \u001b[1;33m\u001b[0m\u001b[0m\n",
      "\u001b[1;31mAttributeError\u001b[0m: module 'pandas' has no attribute 'links'"
     ]
    }
   ],
   "source": [
    "last_link = links.text[-1]\n",
    "last_link"
   ]
  },
  {
   "cell_type": "code",
   "execution_count": null,
   "metadata": {},
   "outputs": [],
   "source": []
  }
 ],
 "metadata": {
  "kernelspec": {
   "display_name": "Python 3",
   "language": "python",
   "name": "python3"
  },
  "language_info": {
   "codemirror_mode": {
    "name": "ipython",
    "version": 3
   },
   "file_extension": ".py",
   "mimetype": "text/x-python",
   "name": "python",
   "nbconvert_exporter": "python",
   "pygments_lexer": "ipython3",
   "version": "3.7.6"
  }
 },
 "nbformat": 4,
 "nbformat_minor": 4
}
